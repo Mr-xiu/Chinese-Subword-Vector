{
 "cells": [
  {
   "cell_type": "markdown",
   "source": [
    "# 预处理语料"
   ],
   "metadata": {
    "collapsed": false
   }
  },
  {
   "cell_type": "markdown",
   "source": [
    "先读取两个语料文本"
   ],
   "metadata": {
    "collapsed": false
   }
  },
  {
   "cell_type": "code",
   "execution_count": 9,
   "metadata": {
    "collapsed": true,
    "ExecuteTime": {
     "end_time": "2023-05-07T08:43:14.718538700Z",
     "start_time": "2023-05-07T08:43:14.673855800Z"
    }
   },
   "outputs": [
    {
     "name": "stdout",
     "output_type": "stream",
     "text": [
      "31200\n"
     ]
    }
   ],
   "source": [
    "corpus_lines = []\n",
    "# 加载训练语料\n",
    "with open('data/train_BPE.txt', 'r', encoding='UTF-8') as f:\n",
    "    corpus_lines = f.readlines()\n",
    "    f.close()\n",
    "\n",
    "# 加载测试语料\n",
    "with open('data/test_BPE.txt', 'r', encoding='UTF-8') as f:\n",
    "    corpus_lines.extend(f.readlines())  # 在列表后面添加测试语料\n",
    "    f.close()\n",
    "\n",
    "print(len(corpus_lines))"
   ]
  },
  {
   "cell_type": "markdown",
   "source": [
    "语料去重"
   ],
   "metadata": {
    "collapsed": false
   }
  },
  {
   "cell_type": "code",
   "execution_count": 10,
   "outputs": [
    {
     "name": "stdout",
     "output_type": "stream",
     "text": [
      "23585\n"
     ]
    }
   ],
   "source": [
    "import numpy as np\n",
    "\n",
    "corpus_lines = np.unique(corpus_lines).tolist()\n",
    "print(len(corpus_lines))"
   ],
   "metadata": {
    "collapsed": false,
    "ExecuteTime": {
     "end_time": "2023-05-07T08:43:16.111877100Z",
     "start_time": "2023-05-07T08:43:15.740803100Z"
    }
   }
  },
  {
   "cell_type": "markdown",
   "source": [
    "使用结巴进行分词"
   ],
   "metadata": {
    "collapsed": false
   }
  },
  {
   "cell_type": "code",
   "execution_count": 23,
   "outputs": [],
   "source": [
    "import jieba\n",
    "\n",
    "for i in range(len(corpus_lines)):\n",
    "    lineStr = ''.join(corpus_lines[i].strip('\\n').split())\n",
    "    line = jieba.cut(lineStr)\n",
    "    corpus_lines[i] = \" \".join(line)\n"
   ],
   "metadata": {
    "collapsed": false,
    "ExecuteTime": {
     "end_time": "2023-05-07T08:57:45.199670600Z",
     "start_time": "2023-05-07T08:57:39.230206900Z"
    }
   }
  },
  {
   "cell_type": "markdown",
   "source": [
    "将分词好的结果保存在文件中"
   ],
   "metadata": {
    "collapsed": false
   }
  },
  {
   "cell_type": "code",
   "execution_count": 24,
   "outputs": [],
   "source": [
    "with open('data/corpus.txt', 'w', encoding='UTF-8') as f:\n",
    "    for i in range(len(corpus_lines) - 1):\n",
    "        f.write(corpus_lines[i] + '\\n')\n",
    "    f.write(corpus_lines[len(corpus_lines) - 1])"
   ],
   "metadata": {
    "collapsed": false,
    "ExecuteTime": {
     "end_time": "2023-05-07T09:01:51.523638700Z",
     "start_time": "2023-05-07T09:01:51.474549300Z"
    }
   }
  },
  {
   "cell_type": "code",
   "execution_count": null,
   "outputs": [],
   "source": [],
   "metadata": {
    "collapsed": false
   }
  }
 ],
 "metadata": {
  "kernelspec": {
   "display_name": "Python 3",
   "language": "python",
   "name": "python3"
  },
  "language_info": {
   "codemirror_mode": {
    "name": "ipython",
    "version": 2
   },
   "file_extension": ".py",
   "mimetype": "text/x-python",
   "name": "python",
   "nbconvert_exporter": "python",
   "pygments_lexer": "ipython2",
   "version": "2.7.6"
  }
 },
 "nbformat": 4,
 "nbformat_minor": 0
}
